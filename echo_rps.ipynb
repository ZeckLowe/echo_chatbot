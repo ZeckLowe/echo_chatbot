{
 "cells": [
  {
   "cell_type": "markdown",
   "metadata": {},
   "source": [
    "# Import Libraries"
   ]
  },
  {
   "cell_type": "code",
   "execution_count": 1,
   "metadata": {},
   "outputs": [
    {
     "name": "stderr",
     "output_type": "stream",
     "text": [
      "c:\\Codes\\Python\\notebooks\\echo_chatbot\\.chatbot\\Lib\\site-packages\\pinecone\\data\\index.py:1: TqdmWarning: IProgress not found. Please update jupyter and ipywidgets. See https://ipywidgets.readthedocs.io/en/stable/user_install.html\n",
      "  from tqdm.autonotebook import tqdm\n"
     ]
    }
   ],
   "source": [
    "import os\n",
    "from langchain_openai import OpenAIEmbeddings\n",
    "import hashlib\n",
    "from pinecone import Pinecone\n",
    "from datetime import date"
   ]
  },
  {
   "cell_type": "markdown",
   "metadata": {},
   "source": [
    "# API Keys"
   ]
  },
  {
   "cell_type": "code",
   "execution_count": 3,
   "metadata": {},
   "outputs": [],
   "source": [
    "OPENAI_API_KEY = os.getenv('OPENAI_API_KEY')\n",
    "PINECONE_API_KEY = os.getenv('PINECONE_API_KEY')"
   ]
  },
  {
   "cell_type": "markdown",
   "metadata": {},
   "source": [
    "# Initialization"
   ]
  },
  {
   "cell_type": "code",
   "execution_count": 5,
   "metadata": {},
   "outputs": [],
   "source": [
    "index = input(\"Input organization name\")\n",
    "namespace = input(\"Input meeting title\")\n",
    "\n",
    "# Pinecone Initialization\n",
    "pc = Pinecone(api_key=PINECONE_API_KEY)\n",
    "index = pc.Index(index)\n",
    "\n",
    "# OpenAI Initialization\n",
    "EMBEDDINGS = OpenAIEmbeddings(model='text-embedding-3-small', openai_api_key=OPENAI_API_KEY)"
   ]
  },
  {
   "cell_type": "markdown",
   "metadata": {},
   "source": [
    "### Sample Transcript"
   ]
  },
  {
   "cell_type": "code",
   "execution_count": 10,
   "metadata": {},
   "outputs": [],
   "source": [
    "sample_transcript = \"\"\"Czech: Hello my name is Czech.     \n",
    "Gian: Hello my name is Gian.\n",
    "Shaundyl: Hello my name is Shaundyl.\n",
    "Czech (Team Lead): Alright, everyone, thanks for joining today’s meeting. We have about 10 minutes to go over the final details before the product launch. Let's start with the progress update. Bob, how are we doing on the development front?\n",
    "Shaundyl (Developer): Things are looking good. We’ve implemented all the major features. I’m currently working on the final round of bug fixes. I should be done with it by tomorrow, but I need the QA team to give it another pass afterward.\n",
    "Czech: Great to hear that. Gian, how are we looking on the project timeline? Any changes or concerns?\n",
    "Gian (Project Manager): We’re on track, but barely. The marketing materials were delayed by two days, but I managed to align the social media schedule to compensate for the delay. As long as the development and testing stay on track, we should meet the launch date. We might want to allocate some buffer time for any last-minute issues though.\n",
    "Czech: Makes sense. Shaundyl, do you think we’ll have time for a final round of testing before we push live?\n",
    "Shaundyl: We should. I’ll aim to finish bug fixes by midday tomorrow. If QA can start immediately after, we’ll have 24 hours for testing before the go-live. I’ll stay available for any hotfixes, just in case.\n",
    "Czech: Perfect. Gian, can you make sure the QA team is on standby for tomorrow afternoon?\n",
    "Gian: Absolutely. I’ll notify them as soon as we’re done here. I’ll also double-check the launch checklist to make sure nothing’s been missed.\n",
    "Czech: Great. And one last thing – how are we handling customer support on launch day? Any special preparations?\n",
    "Gian: We’ve set up a dedicated support channel for the product and briefed the customer support team on the common issues we’re anticipating. We’ll also monitor social media for any unexpected feedback.\n",
    "Czech: Sounds like we’re in good shape. Thanks, everyone. Let’s aim to regroup tomorrow for a final status check. Anything else before we wrap up?\n",
    "Shaundyl: Nothing from my side. I’ll update you if any blockers come up.\n",
    "Gian: I’m all set. Let’s get this done!\n",
    "Czech: Alright then, thanks again! Talk tomorrow.\n",
    "\"\"\""
   ]
  },
  {
   "cell_type": "markdown",
   "metadata": {},
   "source": [
    "# Chunking"
   ]
  },
  {
   "cell_type": "code",
   "execution_count": 11,
   "metadata": {},
   "outputs": [
    {
     "name": "stdout",
     "output_type": "stream",
     "text": [
      "[\"Czech: Hello my name is Czech.\\nGian: Hello my name is Gian.\\nShaundyl: Hello my name is Shaundyl.\\nCzech (Team Lead): Alright, everyone, thanks for joining today’s meeting. We have about 10 minutes to go over the final details before the product launch. Let's start with the progress update. Bob, how are we doing on the development front?\\nShaundyl (Developer): Things are looking good. We’ve implemented all the major features. I’m currently working on the final round of bug fixes. I should be done with it by tomorrow, but I need the QA team to give it another pass afterward.\", 'Czech: Great to hear that. Gian, how are we looking on the project timeline? Any changes or concerns?\\nGian (Project Manager): We’re on track, but barely. The marketing materials were delayed by two days, but I managed to align the social media schedule to compensate for the delay. As long as the development and testing stay on track, we should meet the launch date. We might want to allocate some buffer time for any last-minute issues though.\\nCzech: Makes sense. Shaundyl, do you think we’ll have time for a final round of testing before we push live?', 'Shaundyl: We should. I’ll aim to finish bug fixes by midday tomorrow. If QA can start immediately after, we’ll have 24 hours for testing before the go-live. I’ll stay available for any hotfixes, just in case.\\nCzech: Perfect. Gian, can you make sure the QA team is on standby for tomorrow afternoon?\\nGian: Absolutely. I’ll notify them as soon as we’re done here. I’ll also double-check the launch checklist to make sure nothing’s been missed.\\nCzech: Great. And one last thing – how are we handling customer support on launch day? Any special preparations?', 'Gian: We’ve set up a dedicated support channel for the product and briefed the customer support team on the common issues we’re anticipating. We’ll also monitor social media for any unexpected feedback.\\nCzech: Sounds like we’re in good shape. Thanks, everyone. Let’s aim to regroup tomorrow for a final status check. Anything else before we wrap up?\\nShaundyl: Nothing from my side. I’ll update you if any blockers come up.\\nGian: I’m all set. Let’s get this done!\\nCzech: Alright then, thanks again! Talk tomorrow.', '']\n"
     ]
    }
   ],
   "source": [
    "def chunk_text(text, max_chunk_size=500):\n",
    "    # Ensure each text ends with a newline to correctly split sentences\n",
    "    if not text.endswith(\"\\n\"):\n",
    "        text += \"\\n\"\n",
    "\n",
    "    # Split text into sentence\n",
    "    sentences = text.split(\"\\n\")\n",
    "    chunks = []\n",
    "    current_chunk = \"\"\n",
    "\n",
    "    # Iterate over sentence and assemble chunks\n",
    "    for sentence in sentences:\n",
    "        # Check if adding the current sentence exceeds the maximum chunk size\n",
    "        if (len(current_chunk) + len(sentences) + 2 > max_chunk_size and current_chunk):\n",
    "            # Add the current chunk to the list and start a new chunk\n",
    "            chunks.append(current_chunk.strip())\n",
    "            current_chunk = \"\"\n",
    "        # Add the current sentence to the current chunk\n",
    "        current_chunk += sentence.strip() + \"\\n\"\n",
    "    # Add any remaining text as the last chunk\n",
    "    if (current_chunk):\n",
    "        chunks.append(current_chunk.strip())\n",
    "\n",
    "    return chunks # type: list[str]\n",
    "\n",
    "chunked_text = chunk_text(text=sample_transcript)\n",
    "print(chunked_text)"
   ]
  },
  {
   "cell_type": "markdown",
   "metadata": {},
   "source": [
    "# Generate Embeddings"
   ]
  },
  {
   "cell_type": "code",
   "execution_count": null,
   "metadata": {},
   "outputs": [],
   "source": [
    "def generate_embeddings(texts):\n",
    "    \"\"\"\n",
    "    Generate embeddings for a list of text.\n",
    "    \"\"\"\n",
    "    embedded = EMBEDDINGS.embed_documents(texts)\n",
    "\n",
    "    print(\"Generating embeddings: Done!\")\n",
    "    return embedded\n",
    "\n",
    "chunked_text_embeddings = generate_embeddings(texts=chunked_text)\n",
    "print(chunked_text_embeddings)"
   ]
  },
  {
   "cell_type": "markdown",
   "metadata": {},
   "source": [
    "# Combine Vector and Text"
   ]
  },
  {
   "cell_type": "code",
   "execution_count": null,
   "metadata": {},
   "outputs": [],
   "source": [
    "def generate_short_id(content):\n",
    "    \"\"\"\n",
    "    Generate a short ID based on the content using SHA-256 hash.\n",
    "    \"\"\"\n",
    "    hash_obj = hashlib.sha256()\n",
    "    hash_obj.update(content.encode(\"utf-8\"))\n",
    "\n",
    "    print(\"Generating short id: Done!\")\n",
    "    return hash_obj.hexdigest()\n",
    "\n",
    "def combine_vector_and_text(texts, meeting_title, date, text_embeddings):\n",
    "    \"\"\"\n",
    "    Process a list of texts along with their embeddings.\n",
    "    \"\"\"\n",
    "    data_with_metadata = []\n",
    "\n",
    "    for doc_text, embedding in zip(texts, text_embeddings):\n",
    "        if not isinstance(doc_text, str):\n",
    "            doc_text = str(doc_text)\n",
    "\n",
    "        if not isinstance(meeting_title, str):\n",
    "            meeting_title = str(meeting_title)\n",
    "\n",
    "        if not isinstance(date, str):\n",
    "            date = str(date)\n",
    "\n",
    "        text_id = generate_short_id(doc_text)\n",
    "        data_item = {\n",
    "            \"id\": text_id,\n",
    "            \"values\": embedding,\n",
    "            \"metadata\": {\"text\": doc_text, \"title\": meeting_title, \"date\": date},\n",
    "        }\n",
    "\n",
    "        data_with_metadata.append(data_item)\n",
    "\n",
    "    print(\"Combining vector and text: Done!\")\n",
    "    return data_with_metadata\n",
    "\n",
    "data_with_meta_data = combine_vector_and_text(texts=chunked_text, meeting_title=namespace, date=date, text_embeddings=chunked_text_embeddings)\n",
    "print(data_with_meta_data)"
   ]
  },
  {
   "cell_type": "markdown",
   "metadata": {},
   "source": [
    "# Upsert to Pinecone"
   ]
  },
  {
   "cell_type": "code",
   "execution_count": null,
   "metadata": {},
   "outputs": [],
   "source": [
    "def upsert_data_to_pinecone(data_with_metadata, namespace):\n",
    "    \"\"\"\n",
    "    Upsert data with metadata into a Pinecone index.\n",
    "    \"\"\"\n",
    "    index.upsert(vectors=data_with_metadata, namespace=namespace)\n",
    "    print(\"Upserting vectors to Pinecone: Done!\")\n",
    "\n",
    "upsert_data_to_pinecone(data_with_metadata=data_with_meta_data, namespace=namespace)\n",
    "index.describe_index_stats()"
   ]
  },
  {
   "cell_type": "markdown",
   "metadata": {},
   "source": [
    "# MAIN"
   ]
  },
  {
   "cell_type": "code",
   "execution_count": null,
   "metadata": {},
   "outputs": [],
   "source": [
    "def Pinecone(texts, meeting_title):\n",
    "    today = str(date.today()) # INITIALIZATION FOR DATE (DYNAMIC) BASED ON STORING\n",
    "    namespace = 'USJ-R' # NAMESPACE DEFAULTED TO 'USJ-R' FOR ISOLATION (STATIC)\n",
    "\n",
    "    chunked_text = chunk_text(text=texts)\n",
    "    chunked_text_embeddings = generate_embeddings(texts=chunked_text)\n",
    "    data_with_meta_data = combine_vector_and_text(texts=chunked_text, meeting_title=meeting_title, date=today,  text_embeddings=chunked_text_embeddings)\n",
    "    upsert_data_to_pinecone(data_with_metadata=data_with_meta_data, namespace_name=namespace)\n",
    "\n",
    "Pinecone(texts=text1, meeting_title=\"Kickoff Meeting for Software Development Project\")"
   ]
  }
 ],
 "metadata": {
  "kernelspec": {
   "display_name": ".chatbot",
   "language": "python",
   "name": "python3"
  },
  "language_info": {
   "codemirror_mode": {
    "name": "ipython",
    "version": 3
   },
   "file_extension": ".py",
   "mimetype": "text/x-python",
   "name": "python",
   "nbconvert_exporter": "python",
   "pygments_lexer": "ipython3",
   "version": "3.11.4"
  }
 },
 "nbformat": 4,
 "nbformat_minor": 2
}
