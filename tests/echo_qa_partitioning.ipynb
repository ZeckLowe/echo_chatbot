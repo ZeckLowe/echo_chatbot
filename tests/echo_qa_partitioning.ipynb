{
 "cells": [
  {
   "cell_type": "markdown",
   "metadata": {},
   "source": [
    "# Import Libraries"
   ]
  },
  {
   "cell_type": "code",
   "execution_count": null,
   "metadata": {},
   "outputs": [],
   "source": [
    "import os\n",
    "from langchain_community.document_loaders import PyPDFLoader\n",
    "from langchain_openai import OpenAIEmbeddings\n",
    "from langchain_openai import ChatOpenAI\n",
    "import hashlib\n",
    "from pinecone import Pinecone\n",
    "from langchain.llms import OpenAI\n",
    "from langchain.prompts import PromptTemplate\n",
    "import json\n",
    "import ast\n",
    "from rapidfuzz import fuzz\n",
    "from datetime import datetime\n",
    "from langchain.chains import create_retrieval_chain\n",
    "from langchain.chains.combine_documents import create_stuff_documents_chain\n",
    "from langchain import hub\n",
    "from langchain_pinecone import PineconeVectorStore\n",
    "from langchain.schema import Document\n",
    "import time"
   ]
  },
  {
   "cell_type": "markdown",
   "metadata": {},
   "source": [
    "## Initialization"
   ]
  },
  {
   "cell_type": "code",
   "execution_count": 2,
   "metadata": {},
   "outputs": [
    {
     "name": "stderr",
     "output_type": "stream",
     "text": [
      "C:\\Users\\Zeck Lowe\\AppData\\Local\\Temp\\ipykernel_14552\\1551298541.py:10: LangChainDeprecationWarning: The class `OpenAI` was deprecated in LangChain 0.0.10 and will be removed in 1.0. An updated version of the class exists in the :class:`~langchain-openai package and should be used instead. To use it run `pip install -U :class:`~langchain-openai` and import as `from :class:`~langchain_openai import OpenAI``.\n",
      "  client = OpenAI(api_key=OPENAI_API_KEY)\n"
     ]
    }
   ],
   "source": [
    "# Get API Keys\n",
    "OPENAI_API_KEY = os.getenv('OPENAI_API_KEY')\n",
    "PINECONE_API_KEY = os.getenv('PINECONE_API_KEY')\n",
    "\n",
    "# Pinecone Initialization\n",
    "pc = Pinecone(api_key=PINECONE_API_KEY)\n",
    "# index = pc.Index(\"echo-openai\")\n",
    "\n",
    "# OpenAI Initialization\n",
    "client = OpenAI(api_key=OPENAI_API_KEY)\n",
    "EMBEDDINGS = OpenAIEmbeddings(model='text-embedding-3-small', openai_api_key=OPENAI_API_KEY)"
   ]
  },
  {
   "cell_type": "markdown",
   "metadata": {},
   "source": [
    "# Chatbot"
   ]
  },
  {
   "cell_type": "code",
   "execution_count": 17,
   "metadata": {},
   "outputs": [
    {
     "name": "stderr",
     "output_type": "stream",
     "text": [
      "c:\\Codes\\Python\\notebooks\\echo_chatbot\\.chatbot\\Lib\\site-packages\\langsmith\\client.py:351: LangSmithMissingAPIKeyWarning: API key must be provided when using hosted LangSmith API\n",
      "  warnings.warn(\n"
     ]
    }
   ],
   "source": [
    "retrieval_qa_chat_prompt = hub.pull(\"langchain-ai/retrieval-qa-chat\")\n",
    "\n",
    "docsearch = PineconeVectorStore(\n",
    "    index_name=input(\"Give organization name\"),\n",
    "    embedding=EMBEDDINGS,\n",
    "    namespace=input(\"Give meeting title\")\n",
    ")\n",
    "\n",
    "retriever = docsearch.as_retriever()\n",
    "\n",
    "LLM = ChatOpenAI(temperature=0.0, model_name=\"gpt-4-turbo\", openai_api_key=OPENAI_API_KEY)\n",
    "\n",
    "combine_docs_chain = create_stuff_documents_chain(\n",
    "    LLM, retrieval_qa_chat_prompt\n",
    ")\n",
    "\n",
    "retrieval_chain = create_retrieval_chain(\n",
    "    retriever, combine_docs_chain\n",
    ")"
   ]
  },
  {
   "cell_type": "markdown",
   "metadata": {},
   "source": [
    "# Query"
   ]
  },
  {
   "cell_type": "code",
   "execution_count": 12,
   "metadata": {},
   "outputs": [],
   "source": [
    "query1 = \"What was the QA perspective on the kickoff meeting?\"\n",
    "\n",
    "query2 = \"What are the key points of the meeting?\""
   ]
  },
  {
   "cell_type": "markdown",
   "metadata": {},
   "source": [
    "### Query without relevant knowledge"
   ]
  },
  {
   "cell_type": "code",
   "execution_count": 13,
   "metadata": {},
   "outputs": [
    {
     "name": "stdout",
     "output_type": "stream",
     "text": [
      "Query 1: What was the QA perspective on the kickoff meeting?\n",
      "\n",
      "Answer without knowledge:\n",
      "\n",
      " I don't have specific details about a particular kickoff meeting as my responses are generated based on a mixture of licensed data, data created by human trainers, and publicly available information. I can, however, provide a general overview of what a Quality Assurance (QA) perspective might focus on during a kickoff meeting:\n",
      "\n",
      "1. **Understanding Requirements**: QA professionals would be keen on understanding the project requirements clearly. This includes knowing what the expected outcomes are, the scope of the project, and specific details about functionalities and user expectations.\n",
      "\n",
      "2. **Clarifying Test Objectives**: They would want to discuss and clarify the objectives of testing for the project. This involves understanding what needs to be tested, how it should be tested, and the criteria for passing or failing.\n",
      "\n",
      "3. **Resource Allocation**: From a QA perspective, it's important to discuss the resources available for testing. This includes personnel, tools, and time. They would want to ensure that there are enough resources allocated to meet the testing objectives.\n",
      "\n",
      "4. **Timeline and Milestones**: QA teams would focus on the timeline of the project, particularly how it aligns with testing phases. They would be interested in key milestones and deadlines to plan their testing schedules effectively.\n",
      "\n",
      "5. **Risk Management**: Identifying potential risks and discussing mitigation strategies would be a key concern. This includes understanding what could go wrong during the testing phase and planning how to handle these issues.\n",
      "\n",
      "6. **Communication Plans**: Establishing clear lines of communication is crucial for QA. They would want to know who to report to, how to communicate issues and concerns, and how frequently updates should be given.\n",
      "\n",
      "7. **Tools and Technologies**: Discussing the tools and technologies that will be used during the testing process is also important. This could include software for tracking bugs, automation tools, and other relevant technologies.\n",
      "\n",
      "8. **Integration with Other Teams**: QA would be interested in how they will integrate and work with other teams such as development, operations, and support. Understanding roles and responsibilities in the context of the entire project is crucial.\n",
      "\n",
      "If you have a specific kickoff meeting or project in mind, providing more context would help in giving a more tailored response.\n",
      "\n",
      "\n"
     ]
    }
   ],
   "source": [
    "answer1_without_knowledge = LLM.invoke(query1)\n",
    "\n",
    "print(\"Query 1:\", query1)\n",
    "print(\"\\nAnswer without knowledge:\\n\\n\", answer1_without_knowledge.content)\n",
    "print(\"\\n\")\n",
    "time.sleep(2)"
   ]
  },
  {
   "cell_type": "markdown",
   "metadata": {},
   "source": [
    "### Query with Knowledge"
   ]
  },
  {
   "cell_type": "code",
   "execution_count": null,
   "metadata": {},
   "outputs": [
    {
     "name": "stdout",
     "output_type": "stream",
     "text": [
      "Query 1: What are the key points of the meeting?\n",
      "\n",
      "Answer with knowledge:\n",
      "\n",
      " The key points of the meeting include:\n",
      "\n",
      "1. **Development Update**: Shaundyl reported that all major features have been implemented and he is currently working on the final round of bug fixes, which should be completed by the next day. However, the QA team needs to review the fixes afterward.\n",
      "\n",
      "2. **Project Timeline**: Gian confirmed that the project is on track, although there was a slight delay with the marketing materials. He adjusted the social media schedule to compensate for this delay. He also suggested allocating some buffer time for any unforeseen issues as the launch date approaches.\n",
      "\n",
      "3. **Testing**: Shaundyl plans to finish the bug fixes by midday the following day, allowing the QA team to start their final round of testing immediately after. This schedule provides 24 hours for testing before the product goes live. Shaundyl also committed to being available for any necessary hotfixes during the launch.\n",
      "\n",
      "4. **Quality Assurance**: Gian agreed to ensure that the QA team is ready to start testing the next afternoon and to double-check the launch checklist to ensure no tasks have been overlooked.\n",
      "\n",
      "5. **Customer Support**: The team discussed the setup of a dedicated support channel and the briefing of the customer support team on anticipated common issues. They also plan to monitor social media for any unexpected feedback.\n",
      "\n",
      "6. **Next Steps**: The team plans to regroup the following day for a final status check before the launch.\n",
      "\n",
      "Context used:\n",
      "\n",
      " [Document(id='d75d3437-619d-4ed3-905f-5ac4d687cae5', metadata={}, page_content='Gian: We’ve set up a dedicated support channel for the product and briefed the customer support team on the common issues we’re anticipating. We’ll also monitor social media for any unexpected feedback.\\nCzech: Sounds like we’re in good shape. Thanks, everyone. Let’s aim to regroup tomorrow for a final status check. Anything else before we wrap up?\\nShaundyl: Nothing from my side. I’ll update you if any blockers come up.\\nGian: I’m all set. Let’s get this done!\\nCzech: Alright then, thanks again! Talk tomorrow.'), Document(id='cdcf903b-b8f7-488a-9ee1-002669fd27d5', metadata={}, page_content=\"Czech: Hello my name is Czech.\\nGian: Hello my name is Gian.\\nShaundyl: Hello my name is Shaundyl.\\nCzech (Team Lead): Alright, everyone, thanks for joining today’s meeting. We have about 10 minutes to go over the final details before the product launch. Let's start with the progress update. Bob, how are we doing on the development front?\\nShaundyl (Developer): Things are looking good. We’ve implemented all the major features. I’m currently working on the final round of bug fixes. I should be done with it by tomorrow, but I need the QA team to give it another pass afterward.\"), Document(id='73233db1-a635-4b6b-8d8f-ea0e140cf821', metadata={}, page_content='Czech: Great to hear that. Gian, how are we looking on the project timeline? Any changes or concerns?\\nGian (Project Manager): We’re on track, but barely. The marketing materials were delayed by two days, but I managed to align the social media schedule to compensate for the delay. As long as the development and testing stay on track, we should meet the launch date. We might want to allocate some buffer time for any last-minute issues though.\\nCzech: Makes sense. Shaundyl, do you think we’ll have time for a final round of testing before we push live?'), Document(id='b81facc3-ec35-4ad6-8344-e5d97d32bfa4', metadata={}, page_content='Shaundyl: We should. I’ll aim to finish bug fixes by midday tomorrow. If QA can start immediately after, we’ll have 24 hours for testing before the go-live. I’ll stay available for any hotfixes, just in case.\\nCzech: Perfect. Gian, can you make sure the QA team is on standby for tomorrow afternoon?\\nGian: Absolutely. I’ll notify them as soon as we’re done here. I’ll also double-check the launch checklist to make sure nothing’s been missed.\\nCzech: Great. And one last thing – how are we handling customer support on launch day? Any special preparations?')]\n",
      "\n",
      "\n"
     ]
    }
   ],
   "source": [
    "answer1_with_knowledge = retrieval_chain.invoke({\"input\": query2})\n",
    "\n",
    "print(\"Query 1:\", query2)\n",
    "print(\"\\nAnswer with knowledge:\\n\\n\", answer1_with_knowledge['answer'])\n",
    "print(\"\\nContext used:\\n\\n\", answer1_with_knowledge['context'])\n",
    "print(\"\\n\")\n",
    "time.sleep(2)"
   ]
  }
 ],
 "metadata": {
  "kernelspec": {
   "display_name": ".chatbot",
   "language": "python",
   "name": "python3"
  },
  "language_info": {
   "codemirror_mode": {
    "name": "ipython",
    "version": 3
   },
   "file_extension": ".py",
   "mimetype": "text/x-python",
   "name": "python",
   "nbconvert_exporter": "python",
   "pygments_lexer": "ipython3",
   "version": "3.11.4"
  }
 },
 "nbformat": 4,
 "nbformat_minor": 2
}
