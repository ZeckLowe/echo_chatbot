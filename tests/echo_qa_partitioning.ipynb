{
 "cells": [
  {
   "cell_type": "markdown",
   "metadata": {},
   "source": [
    "# Import Libraries"
   ]
  },
  {
   "cell_type": "code",
   "execution_count": 1,
   "metadata": {},
   "outputs": [
    {
     "name": "stderr",
     "output_type": "stream",
     "text": [
      "c:\\Codes\\Python\\notebooks\\echo_chatbot\\.chatbot\\Lib\\site-packages\\pinecone\\data\\index.py:1: TqdmWarning: IProgress not found. Please update jupyter and ipywidgets. See https://ipywidgets.readthedocs.io/en/stable/user_install.html\n",
      "  from tqdm.autonotebook import tqdm\n"
     ]
    }
   ],
   "source": [
    "import os\n",
    "from langchain_community.document_loaders import PyPDFLoader\n",
    "from langchain_openai import OpenAIEmbeddings\n",
    "from langchain_openai import ChatOpenAI\n",
    "import hashlib\n",
    "from pinecone import Pinecone\n",
    "from langchain.llms import OpenAI\n",
    "from langchain.prompts import PromptTemplate\n",
    "import json\n",
    "import ast\n",
    "from rapidfuzz import fuzz\n",
    "from datetime import datetime\n",
    "from langchain.chains import create_retrieval_chain\n",
    "from langchain.chains.combine_documents import create_stuff_documents_chain\n",
    "from langchain import hub\n",
    "from langchain_pinecone import PineconeVectorStore\n",
    "from langchain.schema import Document\n",
    "import time"
   ]
  },
  {
   "cell_type": "markdown",
   "metadata": {},
   "source": [
    "## Initialization"
   ]
  },
  {
   "cell_type": "code",
   "execution_count": 3,
   "metadata": {},
   "outputs": [
    {
     "name": "stderr",
     "output_type": "stream",
     "text": [
      "C:\\Users\\Zeck Lowe\\AppData\\Local\\Temp\\ipykernel_26068\\1551298541.py:10: LangChainDeprecationWarning: The class `OpenAI` was deprecated in LangChain 0.0.10 and will be removed in 1.0. An updated version of the class exists in the :class:`~langchain-openai package and should be used instead. To use it run `pip install -U :class:`~langchain-openai` and import as `from :class:`~langchain_openai import OpenAI``.\n",
      "  client = OpenAI(api_key=OPENAI_API_KEY)\n"
     ]
    }
   ],
   "source": [
    "# Get API Keys\n",
    "OPENAI_API_KEY = os.getenv('OPENAI_API_KEY')\n",
    "PINECONE_API_KEY = os.getenv('PINECONE_API_KEY')\n",
    "\n",
    "# Pinecone Initialization\n",
    "pc = Pinecone(api_key=PINECONE_API_KEY)\n",
    "# index = pc.Index(\"echo-openai\")\n",
    "\n",
    "# OpenAI Initialization\n",
    "client = OpenAI(api_key=OPENAI_API_KEY)\n",
    "EMBEDDINGS = OpenAIEmbeddings(model='text-embedding-3-small', openai_api_key=OPENAI_API_KEY)"
   ]
  },
  {
   "cell_type": "markdown",
   "metadata": {},
   "source": [
    "# Chatbot"
   ]
  },
  {
   "cell_type": "code",
   "execution_count": 7,
   "metadata": {},
   "outputs": [
    {
     "name": "stderr",
     "output_type": "stream",
     "text": [
      "c:\\Codes\\Python\\notebooks\\echo_chatbot\\.chatbot\\Lib\\site-packages\\langsmith\\client.py:351: LangSmithMissingAPIKeyWarning: API key must be provided when using hosted LangSmith API\n",
      "  warnings.warn(\n"
     ]
    }
   ],
   "source": [
    "retrieval_qa_chat_prompt = hub.pull(\"langchain-ai/retrieval-qa-chat\")\n",
    "\n",
    "docsearch = PineconeVectorStore(\n",
    "    index_name=input(\"Give organization name\"),\n",
    "    embedding=EMBEDDINGS,\n",
    "    namespace=input(\"Give meeting title\")\n",
    ")\n",
    "\n",
    "retriever = docsearch.as_retriever()\n",
    "\n",
    "LLM = ChatOpenAI(temperature=0.0, model_name=\"gpt-4-turbo\", openai_api_key=OPENAI_API_KEY)\n",
    "\n",
    "combine_docs_chain = create_stuff_documents_chain(\n",
    "    LLM, retrieval_qa_chat_prompt\n",
    ")\n",
    "\n",
    "retrieval_chain = create_retrieval_chain(\n",
    "    retriever, combine_docs_chain\n",
    ")"
   ]
  },
  {
   "cell_type": "markdown",
   "metadata": {},
   "source": [
    "# Query"
   ]
  },
  {
   "cell_type": "code",
   "execution_count": 8,
   "metadata": {},
   "outputs": [],
   "source": [
    "query1 = \"What was the QA perspective on the kickoff meeting?\"\n",
    "\n",
    "query2 = \"What are the key points of the meeting?\""
   ]
  },
  {
   "cell_type": "markdown",
   "metadata": {},
   "source": [
    "### Query without relevant knowledge"
   ]
  },
  {
   "cell_type": "code",
   "execution_count": 9,
   "metadata": {},
   "outputs": [
    {
     "name": "stdout",
     "output_type": "stream",
     "text": [
      "Query 1: What was the QA perspective on the kickoff meeting?\n",
      "\n",
      "Answer without knowledge:\n",
      "\n",
      " I don't have specific details about a particular kickoff meeting as my responses are generated based on a mixture of licensed data, data created by human trainers, and publicly available information. I can provide a general overview of what a QA (Quality Assurance) perspective might involve in a kickoff meeting:\n",
      "\n",
      "1. **Understanding Requirements**: QA professionals would focus on understanding the project requirements clearly. They would ensure that they have a comprehensive understanding of what needs to be tested and the project deliverables.\n",
      "\n",
      "2. **Clarifying Objectives**: They would seek to clarify the testing objectives and ensure these are aligned with the overall project goals.\n",
      "\n",
      "3. **Resource Allocation**: From a QA perspective, it's crucial to discuss and secure the necessary resources for testing. This includes personnel, tools, and time.\n",
      "\n",
      "4. **Timeline and Milestones**: QA would be interested in understanding the timeline of the project and when specific deliverables are expected. They would align their testing schedule with these milestones.\n",
      "\n",
      "5. **Risk Identification**: Identifying potential risks and discussing mitigation plans would be a key concern. This includes risks related to project scope, timelines, resources, and technical complexities.\n",
      "\n",
      "6. **Communication Plans**: Establishing clear lines of communication and reporting structures is crucial for QA. They would want to know how issues are reported and how communication will be handled throughout the project.\n",
      "\n",
      "7. **Testing Strategies**: They might propose or seek consensus on various testing strategies and methodologies that are appropriate for the project, such as manual testing, automation, performance testing, etc.\n",
      "\n",
      "8. **Feedback and Iterations**: QA would emphasize the importance of feedback loops and iterative testing throughout the project to ensure continuous improvement and adaptation.\n",
      "\n",
      "9. **Documentation**: Ensuring that all testing procedures and changes are well documented is crucial for QA. They would discuss how documentation is handled and maintained.\n",
      "\n",
      "10. **Exit Criteria**: Discussing and defining the criteria for successfully completing the testing phase and moving on to the next stages of the project.\n",
      "\n",
      "If you have a specific scenario or context in mind, please provide more details, and I can tailor the response more closely to your needs.\n",
      "\n",
      "\n"
     ]
    }
   ],
   "source": [
    "answer1_without_knowledge = LLM.invoke(query1)\n",
    "\n",
    "print(\"Query 1:\", query1)\n",
    "print(\"\\nAnswer without knowledge:\\n\\n\", answer1_without_knowledge.content)\n",
    "print(\"\\n\")\n",
    "time.sleep(2)"
   ]
  },
  {
   "cell_type": "markdown",
   "metadata": {},
   "source": [
    "### Query with Knowledge"
   ]
  },
  {
   "cell_type": "code",
   "execution_count": 10,
   "metadata": {},
   "outputs": [
    {
     "name": "stdout",
     "output_type": "stream",
     "text": [
      "Query 1: What was the QA perspective on the kickoff meeting?\n",
      "\n",
      "Answer with knowledge:\n",
      "\n",
      " Sara, the QA analyst, expressed her role in the project during the kickoff meeting. She mentioned that she would be responsible for testing the software to ensure it meets quality standards and is free of bugs. This indicates her focus on quality assurance and her commitment to delivering a reliable product.\n",
      "\n",
      "Context used:\n",
      "\n",
      " [Document(id='5285811d-1239-4477-822d-805724435aad', metadata={}, page_content=\"[00:00:00] John: Good morning, everyone. Thank you for joining today's kickoff meeting for our new     software development project. We'll be discussing the project scope, timelines, and\\nresponsibilities. Let's get started with a quick round of introductions. I'll go first. I'm John, the     project manager. I'll be overseeing the project and ensuring we stay on track. Alice, would you     like to go next?\\n[00:00:20]\\nAlice: Sure, thanks John. Hi, everyone. I'm Alice, the lead developer. I'll be responsible for the\"), Document(id='d4b688ec-4649-4c90-aa5c-0f1cc87361d6', metadata={}, page_content=\"[00:00:00] John: Good morning, everyone. Thank you for joining today's kickoff meeting for our new     software development project. We'll be discussing the project scope, timelines, and\\nresponsibilities. Let's get started with a quick round of introductions. I'll go first. I'm John, the     project manager. I'll be overseeing the project and ensuring we stay on track. Alice, would you     like to go next?\\n[00:00:20]\\nAlice: Sure, thanks John. Hi, everyone. I'm Alice, the lead developer. I'll be responsible for the\"), Document(id='c69d0c41-6001-401b-a852-62e6abe5e0cb', metadata={}, page_content=\"overall architecture and development of the software. Looking forward to working with all of you.\\n[00:00:35]\\nBob: Hi, I'm Bob, the UI/UX designer. I'll be handling the design aspects of the software, making\\nsure it's user-friendly and visually appealing.\\n[00:00:45]\\nSara: Hello, I'm Sara, the QA analyst. I'll be testing the software to ensure it meets our quality\\nstandards and is free of bugs.\\n[00:00:55]\\nJohn: Great, thank you. Now that we've introduced ourselves, let's dive into the project scope.\"), Document(id='575e118e-cf71-47b5-8fe0-533a435320a6', metadata={}, page_content=\"overall architecture and development of the software. Looking forward to working with all of you.\\n[00:00:35]\\nBob: Hi, I'm Bob, the UI/UX designer. I'll be handling the design aspects of the software, making\\nsure it's user-friendly and visually appealing.\\n[00:00:45]\\nSara: Hello, I'm Sara, the QA analyst. I'll be testing the software to ensure it meets our quality\\nstandards and is free of bugs.\\n[00:00:55]\\nJohn: Great, thank you. Now that we've introduced ourselves, let's dive into the project scope.\")]\n",
      "\n",
      "\n"
     ]
    }
   ],
   "source": [
    "answer1_with_knowledge = retrieval_chain.invoke({\"input\": query1})\n",
    "\n",
    "print(\"Query 1:\", query1)\n",
    "print(\"\\nAnswer with knowledge:\\n\\n\", answer1_with_knowledge['answer'])\n",
    "print(\"\\nContext used:\\n\\n\", answer1_with_knowledge['context'])\n",
    "print(\"\\n\")\n",
    "time.sleep(2)"
   ]
  }
 ],
 "metadata": {
  "kernelspec": {
   "display_name": ".chatbot",
   "language": "python",
   "name": "python3"
  },
  "language_info": {
   "codemirror_mode": {
    "name": "ipython",
    "version": 3
   },
   "file_extension": ".py",
   "mimetype": "text/x-python",
   "name": "python",
   "nbconvert_exporter": "python",
   "pygments_lexer": "ipython3",
   "version": "3.11.4"
  }
 },
 "nbformat": 4,
 "nbformat_minor": 2
}
